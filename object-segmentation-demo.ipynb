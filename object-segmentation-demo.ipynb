{
 "cells": [
  {
   "cell_type": "markdown",
   "metadata": {},
   "source": [
    "# Proyecto Computer Vision End-to-End\n",
    "\n",
    "## Proyecto DEMO para Meetup CaliSharp"
   ]
  },
  {
   "cell_type": "markdown",
   "metadata": {},
   "source": [
    "![Demo](images/demo.png)"
   ]
  },
  {
   "cell_type": "markdown",
   "metadata": {},
   "source": [
    "# Paso 1. Anotaciones"
   ]
  },
  {
   "cell_type": "markdown",
   "metadata": {},
   "source": [
    "## 1.1. Obtener datos\n",
    "\n",
    "- **Dataset:** [COCO Dataset](https://cocodataset.org/)\n",
    "- **Descarga de imágenes:** Se hace uso de la librería [FalconCV](https://github.com/haruiz/FalconCV) para realizar la descarga de las imágenes y las anotaciones"
   ]
  },
  {
   "cell_type": "code",
   "execution_count": 4,
   "metadata": {},
   "outputs": [
    {
     "name": "stderr",
     "output_type": "stream",
     "text": [
      "INFO     Downloading Coco dataset dependencies, it can take a few minutes\n",
      "INFO     Download dependencies done\n"
     ]
    },
    {
     "name": "stdout",
     "output_type": "stream",
     "text": [
      "loading annotations into memory...\n",
      "Done (t=9.50s)\n",
      "creating index...\n",
      "index created!\n"
     ]
    },
    {
     "name": "stderr",
     "output_type": "stream",
     "text": [
      "INFO     downloading images for : airplane\n",
      "INFO     downloading batch 1/2\n",
      "INFO     downloading batch 2/2\n",
      "INFO     downloading images for : train\n",
      "INFO     downloading batch 1/2\n",
      "INFO     downloading batch 2/2\n",
      "INFO     Downloading Coco dataset dependencies, it can take a few minutes\n",
      "INFO     Download dependencies done\n"
     ]
    },
    {
     "name": "stdout",
     "output_type": "stream",
     "text": [
      "loading annotations into memory...\n",
      "Done (t=0.27s)\n",
      "creating index...\n",
      "index created!\n"
     ]
    },
    {
     "name": "stderr",
     "output_type": "stream",
     "text": [
      "INFO     downloading images for : airplane\n",
      "INFO     downloading batch 1/1\n",
      "INFO     downloading images for : train\n",
      "INFO     downloading batch 1/2\n",
      "INFO     downloading batch 2/2\n"
     ]
    }
   ],
   "source": [
    "import os\n",
    "from falconcv.ds import Coco\n",
    "from falconcv.util import FileUtil, ImageUtil, VIUtil, ColorUtil\n",
    "\n",
    "def download_data(labels_map, color_palette, n_images, batch_size, split, task, output_folder):\n",
    "    try:\n",
    "        # creating dataset\n",
    "        dataset = Coco(v=2017)\n",
    "        dataset.setup(split=split, task=task)\n",
    "        os.makedirs(output_folder, exist_ok=True)\n",
    "        FileUtil.clear_folder(output_folder)\n",
    "        for batch_images in dataset.fetch(\n",
    "                n=n_images,\n",
    "                labels=list(labels_map.keys()),\n",
    "                batch_size=batch_size):\n",
    "            for img in batch_images:\n",
    "                img.export(output_folder, labels_map, color_palette)\n",
    "    except Exception as ex:\n",
    "        print(f\"Error descargando dataset: {ex}\")\n",
    "            \n",
    "labels_map = {\n",
    "    \"airplane\": 1,\n",
    "    \"train\": 2\n",
    "}\n",
    "color_palette = ColorUtil.color_palette(n=len(labels_map))\n",
    "\n",
    "# download train images\n",
    "download_data(labels_map=labels_map, color_palette=color_palette, n_images=500, \n",
    "              batch_size=250, split=\"train\", task=\"detection\", output_folder=\"data/train\")\n",
    "# download validation images\n",
    "download_data(labels_map=labels_map, color_palette=color_palette, n_images=200, \n",
    "              batch_size=100, split=\"validation\", task=\"detection\", output_folder=\"data/val\")"
   ]
  },
  {
   "cell_type": "markdown",
   "metadata": {},
   "source": [
    "## 1.2. Realizar anotaciones\n",
    "\n",
    "- **Nota:** Usando datasets como OpenImages y COCO Dataset muchas veces no necesitamos realizar el proceso de anotaciones, ya que estos datasets se encuentran con estas anotaciones realizadas y son de propósito general\n",
    "- **Visualización/Ajuste anotaciones:** Se hace uso de la herramienta [CVStudio](https://github.com/haruiz/CvStudio)"
   ]
  },
  {
   "cell_type": "markdown",
   "metadata": {},
   "source": [
    "![CVStudio](images/cv-studio.png)"
   ]
  },
  {
   "cell_type": "code",
   "execution_count": null,
   "metadata": {},
   "outputs": [],
   "source": []
  }
 ],
 "metadata": {
  "kernelspec": {
   "display_name": "Python 3",
   "language": "python",
   "name": "python3"
  },
  "language_info": {
   "codemirror_mode": {
    "name": "ipython",
    "version": 3
   },
   "file_extension": ".py",
   "mimetype": "text/x-python",
   "name": "python",
   "nbconvert_exporter": "python",
   "pygments_lexer": "ipython3",
   "version": "3.6.10"
  }
 },
 "nbformat": 4,
 "nbformat_minor": 4
}
